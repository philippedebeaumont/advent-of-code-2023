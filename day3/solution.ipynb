{
 "cells": [
  {
   "cell_type": "markdown",
   "metadata": {},
   "source": [
    "### Part One"
   ]
  },
  {
   "cell_type": "code",
   "execution_count": 1,
   "metadata": {},
   "outputs": [
    {
     "data": {
      "text/plain": [
       "559667"
      ]
     },
     "execution_count": 1,
     "metadata": {},
     "output_type": "execute_result"
    }
   ],
   "source": [
    "sum = 0\n",
    "file = open(\"input.txt\").read().strip().split(\"\\n\")\n",
    "\n",
    "def is_special_char(char):\n",
    "    if char not in [\"0\", \"1\", \"2\", \"3\", \"4\", \"5\", \"6\", \"7\", \"8\", \"9\", \".\"]:\n",
    "        return True\n",
    "    return False\n",
    "\n",
    "def has_special_char(x, y, file):\n",
    "    for i in [x-1, x, x+1]:\n",
    "        for j in [y-1, y, y+1]:\n",
    "            try:\n",
    "                if is_special_char(file[i][j]):\n",
    "                    return True\n",
    "            except IndexError:\n",
    "                continue\n",
    "    return False\n",
    "\n",
    "def get_number(x, y, file):\n",
    "    number = \"\"\n",
    "    i = 0\n",
    "    while True:\n",
    "        try:\n",
    "            if not file[x][y+i-1].isdigit():\n",
    "                break\n",
    "        except IndexError:\n",
    "            break\n",
    "        i -= 1\n",
    "    while True:\n",
    "        number += file[x][y+i]\n",
    "        i += 1\n",
    "        try:\n",
    "            if not file[x][y+i].isdigit():\n",
    "                break\n",
    "        except IndexError:\n",
    "            break\n",
    "    return int(number)\n",
    "\n",
    "for i, line in enumerate(file):\n",
    "    number_found = False\n",
    "    for j, char in enumerate(line):\n",
    "        if char.isdigit() and not number_found:\n",
    "            if has_special_char(i, j, file):\n",
    "                sum += get_number(i, j, file)\n",
    "                number_found = True\n",
    "        elif not char.isdigit():\n",
    "            number_found = False\n",
    "sum"
   ]
  },
  {
   "cell_type": "markdown",
   "metadata": {},
   "source": [
    "### Part Two"
   ]
  },
  {
   "cell_type": "code",
   "execution_count": 2,
   "metadata": {},
   "outputs": [
    {
     "data": {
      "text/plain": [
       "86841457"
      ]
     },
     "execution_count": 2,
     "metadata": {},
     "output_type": "execute_result"
    }
   ],
   "source": [
    "sum = 0\n",
    "file = open(\"input.txt\").read().strip().split(\"\\n\")\n",
    "\n",
    "def has_two_number(x, y, file):\n",
    "    number_list = []\n",
    "    for i in [x-1, x+1]:\n",
    "        for j in [y-1, y, y+1]:\n",
    "            try:\n",
    "                if file[i][j].isdigit():\n",
    "                    number_list.append(get_number(i, j, file))\n",
    "                    if j == y-1 and file[i][y].isdigit():\n",
    "                        break\n",
    "                    if j == y:\n",
    "                        break\n",
    "            except IndexError:\n",
    "                continue\n",
    "    i = x\n",
    "    for j in [y-1, y+1]:\n",
    "        try:\n",
    "            if file[i][j].isdigit():\n",
    "                number_list.append(get_number(i, j, file))\n",
    "        except IndexError:\n",
    "            continue\n",
    "    if len(number_list) == 2:\n",
    "        return number_list[0] * number_list[1]\n",
    "    return 0\n",
    "\n",
    "def get_number(x, y, file):\n",
    "    number = \"\"\n",
    "    i = 0\n",
    "    while True:\n",
    "        try:\n",
    "            if not file[x][y+i-1].isdigit():\n",
    "                break\n",
    "        except IndexError:\n",
    "            break\n",
    "        i -= 1\n",
    "    while True:\n",
    "        number += file[x][y+i]\n",
    "        i += 1\n",
    "        try:\n",
    "            if not file[x][y+i].isdigit():\n",
    "                break\n",
    "        except IndexError:\n",
    "            break\n",
    "    return int(number)\n",
    "\n",
    "for i, line in enumerate(file):\n",
    "    number_found = False\n",
    "    for j, char in enumerate(line):\n",
    "        if char == \"*\":\n",
    "            sum += has_two_number(i, j, file)\n",
    "sum"
   ]
  }
 ],
 "metadata": {
  "kernelspec": {
   "display_name": "Python 3",
   "language": "python",
   "name": "python3"
  },
  "language_info": {
   "codemirror_mode": {
    "name": "ipython",
    "version": 3
   },
   "file_extension": ".py",
   "mimetype": "text/x-python",
   "name": "python",
   "nbconvert_exporter": "python",
   "pygments_lexer": "ipython3",
   "version": "3.9.13"
  }
 },
 "nbformat": 4,
 "nbformat_minor": 2
}
