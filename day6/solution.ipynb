{
 "cells": [
  {
   "cell_type": "markdown",
   "metadata": {},
   "source": [
    "### Part One"
   ]
  },
  {
   "cell_type": "code",
   "execution_count": 40,
   "metadata": {},
   "outputs": [],
   "source": [
    "import re\n",
    "\n",
    "file = open(\"input.txt\").read().strip().split(\"\\n\")\n",
    "\n",
    "times = list(map(int, re.split(r\"\\s+\", file[0].split(\":\")[1].strip())))\n",
    "distances = list(map(int, re.split(r\"\\s+\", file[1].split(\":\")[1].strip())))"
   ]
  },
  {
   "cell_type": "code",
   "execution_count": 41,
   "metadata": {},
   "outputs": [
    {
     "data": {
      "text/plain": [
       "2612736"
      ]
     },
     "execution_count": 41,
     "metadata": {},
     "output_type": "execute_result"
    }
   ],
   "source": [
    "global_count = 1\n",
    "for time, distance in zip(times, distances):\n",
    "    count = 0\n",
    "    for i in range(time):\n",
    "        if i * (time - i) > distance:\n",
    "            count += 1\n",
    "    global_count *= count\n",
    "global_count"
   ]
  },
  {
   "cell_type": "markdown",
   "metadata": {},
   "source": [
    "### Part Two"
   ]
  },
  {
   "cell_type": "code",
   "execution_count": 42,
   "metadata": {},
   "outputs": [],
   "source": [
    "file = open(\"input.txt\").read().strip().split(\"\\n\")\n",
    "\n",
    "time = int(file[0].split(\":\")[1].strip().replace(\" \", \"\"))\n",
    "distance = int(file[1].split(\":\")[1].strip().replace(\" \", \"\"))"
   ]
  },
  {
   "cell_type": "code",
   "execution_count": 43,
   "metadata": {},
   "outputs": [
    {
     "name": "stdout",
     "output_type": "stream",
     "text": [
      "893486811110245\n"
     ]
    },
    {
     "data": {
      "text/plain": [
       "29891250"
      ]
     },
     "execution_count": 43,
     "metadata": {},
     "output_type": "execute_result"
    }
   ],
   "source": [
    "import math\n",
    "\n",
    "discriminant = (time ** 2) - (4 * -1 * - distance)\n",
    "\n",
    "x1 = math.floor((- time - math.sqrt(discriminant)) / (2 * -1))\n",
    "x2 = math.ceil((- time + math.sqrt(discriminant)) / (2 * -1))\n",
    "\n",
    "x1 - x2 + 1\n"
   ]
  }
 ],
 "metadata": {
  "kernelspec": {
   "display_name": "Python 3",
   "language": "python",
   "name": "python3"
  },
  "language_info": {
   "codemirror_mode": {
    "name": "ipython",
    "version": 3
   },
   "file_extension": ".py",
   "mimetype": "text/x-python",
   "name": "python",
   "nbconvert_exporter": "python",
   "pygments_lexer": "ipython3",
   "version": "3.9.13"
  }
 },
 "nbformat": 4,
 "nbformat_minor": 2
}
