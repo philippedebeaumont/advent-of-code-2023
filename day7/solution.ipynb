{
 "cells": [
  {
   "cell_type": "markdown",
   "metadata": {},
   "source": [
    "### Part One"
   ]
  },
  {
   "cell_type": "code",
   "execution_count": 163,
   "metadata": {},
   "outputs": [],
   "source": [
    "file = open(\"input.txt\").read().strip().split(\"\\n\")\n",
    "hands = []\n",
    "bids = []\n",
    "for line in file:\n",
    "    line = line.split(\" \", maxsplit=1)\n",
    "    hands.append(line[0])\n",
    "    bids.append(line[1])"
   ]
  },
  {
   "cell_type": "code",
   "execution_count": 164,
   "metadata": {},
   "outputs": [
    {
     "data": {
      "text/plain": [
       "251216224"
      ]
     },
     "execution_count": 164,
     "metadata": {},
     "output_type": "execute_result"
    }
   ],
   "source": [
    "def get_hand_type(hand, bid, hand_types):\n",
    "    three = False\n",
    "    two = 0\n",
    "    unique_cards = set(hand)\n",
    "    if len(unique_cards) == 5:\n",
    "        hand_types[\"High Card\"].append((hand, bid))\n",
    "    for char in unique_cards:\n",
    "        if hand.count(char) == 5:\n",
    "            hand_types[\"Five of a kind\"].append((hand, bid))\n",
    "        elif hand.count(char) == 4:\n",
    "            hand_types[\"Four of a kind\"].append((hand, bid))\n",
    "        elif hand.count(char) == 3:\n",
    "            three = True\n",
    "        elif hand.count(char) == 2:\n",
    "            two += 1\n",
    "    if three == True and two == 1:\n",
    "        hand_types[\"Full House\"].append((hand, bid))\n",
    "    elif three == True:\n",
    "        hand_types[\"Three of a kind\"].append((hand, bid))\n",
    "    elif two == 2:\n",
    "        hand_types[\"Two pair\"].append((hand, bid))\n",
    "    elif two == 1:\n",
    "        hand_types[\"One pair\"].append((hand, bid))\n",
    "\n",
    "hand_types = [\"Five of a kind\", \"Four of a kind\", \"Full House\", \"Three of a kind\", \"Two pair\", \"One pair\", \"High Card\"]\n",
    "hand_types = {key: [] for key in hand_types}\n",
    "\n",
    "for hand, bid in zip(hands, bids):\n",
    "    get_hand_type(hand, bid, hand_types)\n",
    "\n",
    "def value_order(line):\n",
    "    order = \"AKQJT98765432\"\n",
    "    return tuple(order.index(card) for card in line[0])\n",
    "\n",
    "for hand_type, hands in hand_types.items():\n",
    "    hand_types[hand_type] = sorted(hands, key=value_order)\n",
    "\n",
    "ranked_hands = [line for liste in hand_types.values() for line in liste]\n",
    "ranked_hands.reverse()\n",
    "\n",
    "score = 0\n",
    "for i, value in enumerate(ranked_hands):\n",
    "    score += int(value[1]) * (i+1)\n",
    "score"
   ]
  },
  {
   "cell_type": "markdown",
   "metadata": {},
   "source": [
    "### Part Two"
   ]
  },
  {
   "cell_type": "code",
   "execution_count": 165,
   "metadata": {},
   "outputs": [],
   "source": [
    "file = open(\"input.txt\").read().strip().split(\"\\n\")\n",
    "hands = []\n",
    "bids = []\n",
    "for line in file:\n",
    "    line = line.split(\" \", maxsplit=1)\n",
    "    hands.append(line[0])\n",
    "    bids.append(line[1])"
   ]
  },
  {
   "cell_type": "code",
   "execution_count": 166,
   "metadata": {},
   "outputs": [
    {
     "data": {
      "text/plain": [
       "250825971"
      ]
     },
     "execution_count": 166,
     "metadata": {},
     "output_type": "execute_result"
    }
   ],
   "source": [
    "def get_hand_type(hand, bid, hand_types):\n",
    "    three = 0\n",
    "    two = 0\n",
    "    unique_cards = set(hand)\n",
    "    j = hand.count(\"J\")\n",
    "    if j == 5:\n",
    "        hand_types[\"Five of a kind\"].append((hand, bid))\n",
    "    elif j == 0:\n",
    "        if len(unique_cards) == 5:\n",
    "            hand_types[\"High Card\"].append((hand, bid))\n",
    "        for char in unique_cards:\n",
    "            count_char = hand.count(char)\n",
    "            if count_char == 5:\n",
    "                hand_types[\"Five of a kind\"].append((hand, bid))\n",
    "            elif count_char == 4:\n",
    "                hand_types[\"Four of a kind\"].append((hand, bid))\n",
    "            elif count_char == 3:\n",
    "                three += 1\n",
    "            elif count_char == 2:\n",
    "                two += 1\n",
    "        if three == 1 and two == 1:\n",
    "            hand_types[\"Full House\"].append((hand, bid))\n",
    "        elif three == 1:\n",
    "            hand_types[\"Three of a kind\"].append((hand, bid))\n",
    "        elif two == 2:\n",
    "            hand_types[\"Two pair\"].append((hand, bid))\n",
    "        elif two == 1:\n",
    "            hand_types[\"One pair\"].append((hand, bid))\n",
    "    else:\n",
    "        unique_cards.remove(\"J\")\n",
    "        five = False\n",
    "        four = False\n",
    "        for char in unique_cards:\n",
    "            count_char = hand.count(char) + j\n",
    "            if count_char == 5:\n",
    "                five = True\n",
    "            elif count_char == 4:\n",
    "                four = True\n",
    "            elif count_char == 3:\n",
    "                three += 1\n",
    "            elif count_char == 2:\n",
    "                two += 1\n",
    "        if five == True:\n",
    "            hand_types[\"Five of a kind\"].append((hand, bid))\n",
    "        elif four == True:\n",
    "            hand_types[\"Four of a kind\"].append((hand, bid))\n",
    "        elif three == 2:\n",
    "            hand_types[\"Full House\"].append((hand, bid))\n",
    "        elif three != 0:\n",
    "            hand_types[\"Three of a kind\"].append((hand, bid))\n",
    "        else:\n",
    "            hand_types[\"One pair\"].append((hand, bid))\n",
    "\n",
    "hand_types = [\"Five of a kind\", \"Four of a kind\", \"Full House\", \"Three of a kind\", \"Two pair\", \"One pair\", \"High Card\"]\n",
    "hand_types = {key: [] for key in hand_types}\n",
    "\n",
    "for hand, bid in zip(hands, bids):\n",
    "    get_hand_type(hand, bid, hand_types)\n",
    "\n",
    "def value_order(line):\n",
    "    order = \"AKQT98765432J\"\n",
    "    return tuple(order.index(card) for card in line[0])\n",
    "\n",
    "for hand_type, hands in hand_types.items():\n",
    "    hand_types[hand_type] = sorted(hands, key=value_order)\n",
    "\n",
    "ranked_hands = [line for liste in hand_types.values() for line in liste]\n",
    "ranked_hands.reverse()\n",
    "\n",
    "score = 0\n",
    "for i, value in enumerate(ranked_hands):\n",
    "    score += int(value[1]) * (i+1)\n",
    "score"
   ]
  }
 ],
 "metadata": {
  "kernelspec": {
   "display_name": "Python 3",
   "language": "python",
   "name": "python3"
  },
  "language_info": {
   "codemirror_mode": {
    "name": "ipython",
    "version": 3
   },
   "file_extension": ".py",
   "mimetype": "text/x-python",
   "name": "python",
   "nbconvert_exporter": "python",
   "pygments_lexer": "ipython3",
   "version": "3.11.6"
  }
 },
 "nbformat": 4,
 "nbformat_minor": 2
}
