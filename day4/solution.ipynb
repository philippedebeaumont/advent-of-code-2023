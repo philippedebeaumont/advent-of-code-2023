{
 "cells": [
  {
   "cell_type": "code",
   "execution_count": 1,
   "metadata": {},
   "outputs": [
    {
     "data": {
      "text/plain": [
       "25183"
      ]
     },
     "execution_count": 1,
     "metadata": {},
     "output_type": "execute_result"
    }
   ],
   "source": [
    "total_sum = 0\n",
    "file = open(\"input.txt\").read().strip().split(\"\\n\")\n",
    "for line in file:\n",
    "    line = line.split(\":\")\n",
    "    card_id = line[0].replace(\"   \", \" \").replace(\"  \", \" \").split(\" \")\n",
    "    data = line[1].split(\"|\")\n",
    "    winning_numbers = data[0].strip().replace(\"  \", \" \").split(\" \")\n",
    "    numbers = data[1].strip().replace(\"  \", \" \").split(\" \")\n",
    "    count = 0\n",
    "    for i, value in enumerate(numbers):\n",
    "        if value in winning_numbers:\n",
    "            if count == 0:\n",
    "                count = 1\n",
    "            else:\n",
    "                count *= 2\n",
    "    total_sum += count\n",
    "total_sum"
   ]
  },
  {
   "cell_type": "code",
   "execution_count": 15,
   "metadata": {},
   "outputs": [
    {
     "data": {
      "text/plain": [
       "5667240"
      ]
     },
     "execution_count": 15,
     "metadata": {},
     "output_type": "execute_result"
    }
   ],
   "source": [
    "card_dict = {}\n",
    "file = open(\"input.txt\").read().strip().split(\"\\n\")\n",
    "for line in file:\n",
    "    line = line.split(\":\")\n",
    "    card_id = int(line[0].replace(\"   \", \" \").replace(\"  \", \" \").split(\" \")[-1])\n",
    "    data = line[1].split(\"|\")\n",
    "    winning_numbers = data[0].strip().replace(\"  \", \" \").split(\" \")\n",
    "    numbers = data[1].strip().replace(\"  \", \" \").split(\" \")\n",
    "    count = 0\n",
    "    for i, value in enumerate(numbers):\n",
    "        if value in winning_numbers:\n",
    "            count += 1\n",
    "    card_dict[card_id] = count\n",
    "\n",
    "res_dict = {}\n",
    "for i, _ in enumerate(card_dict):\n",
    "    res_dict[i+1] = 1\n",
    "\n",
    "for key, value in card_dict.items():\n",
    "    for i in range(res_dict[key]):\n",
    "        for i in range(value):\n",
    "            res_dict[key+i+1] += 1\n",
    "\n",
    "sum(res_dict.values())"
   ]
  }
 ],
 "metadata": {
  "kernelspec": {
   "display_name": "Python 3",
   "language": "python",
   "name": "python3"
  },
  "language_info": {
   "codemirror_mode": {
    "name": "ipython",
    "version": 3
   },
   "file_extension": ".py",
   "mimetype": "text/x-python",
   "name": "python",
   "nbconvert_exporter": "python",
   "pygments_lexer": "ipython3",
   "version": "3.9.13"
  }
 },
 "nbformat": 4,
 "nbformat_minor": 2
}
