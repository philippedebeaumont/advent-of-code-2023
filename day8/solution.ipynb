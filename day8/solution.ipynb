{
 "cells": [
  {
   "cell_type": "markdown",
   "metadata": {},
   "source": [
    "### Part One"
   ]
  },
  {
   "cell_type": "code",
   "execution_count": 13,
   "metadata": {},
   "outputs": [
    {
     "name": "stdout",
     "output_type": "stream",
     "text": [
      "{'AAA': ['BBB', 'BBB'], 'BBB': ['AAA', 'ZZZ'], 'ZZZ': ['ZZZ', 'ZZZ']}\n"
     ]
    }
   ],
   "source": [
    "file = open(\"input_small.txt\").read().strip().split(\"\\n\")\n",
    "directions = file.pop(0)\n",
    "file.pop(0)\n",
    "\n",
    "map = {}\n",
    "for line in file:\n",
    "    line = line.split(\"=\")\n",
    "    map[line[0].strip()] = line[1].replace(\"(\", \"\").replace(\")\", \"\").replace(\" \", \"\").split(\",\")"
   ]
  },
  {
   "cell_type": "code",
   "execution_count": null,
   "metadata": {},
   "outputs": [],
   "source": [
    "current_pos = \n",
    "for direction in directions:\n",
    "    if direction == \"L\":\n"
   ]
  }
 ],
 "metadata": {
  "kernelspec": {
   "display_name": "Python 3",
   "language": "python",
   "name": "python3"
  },
  "language_info": {
   "codemirror_mode": {
    "name": "ipython",
    "version": 3
   },
   "file_extension": ".py",
   "mimetype": "text/x-python",
   "name": "python",
   "nbconvert_exporter": "python",
   "pygments_lexer": "ipython3",
   "version": "3.11.6"
  }
 },
 "nbformat": 4,
 "nbformat_minor": 2
}
