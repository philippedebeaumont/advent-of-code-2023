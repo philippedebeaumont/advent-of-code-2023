{
 "cells": [
  {
   "cell_type": "markdown",
   "metadata": {},
   "source": [
    "### Part One"
   ]
  },
  {
   "cell_type": "code",
   "execution_count": 12,
   "metadata": {},
   "outputs": [],
   "source": [
    "file = open(\"input_small.txt\").read().strip().split(\"\\n\")\n",
    "directions = file.pop(0)\n",
    "file.pop(0)\n",
    "\n",
    "map = {}\n",
    "for line in file:\n",
    "    line = line.split(\"=\")\n",
    "    map[line[0].strip()] = line[1].replace(\"(\", \"\").replace(\")\", \"\").replace(\" \", \"\").split(\",\")"
   ]
  },
  {
   "cell_type": "code",
   "execution_count": 13,
   "metadata": {},
   "outputs": [
    {
     "data": {
      "text/plain": [
       "1"
      ]
     },
     "execution_count": 13,
     "metadata": {},
     "output_type": "execute_result"
    }
   ],
   "source": [
    "current_pos = \"AAA\"\n",
    "count = 0\n",
    "\n",
    "while True:\n",
    "    for direction in directions:\n",
    "        count += 1\n",
    "        if direction == \"L\":\n",
    "            current_pos = map[current_pos][0]\n",
    "        else:\n",
    "            current_pos = map[current_pos][1]\n",
    "        if current_pos == \"ZZZ\":\n",
    "            break\n",
    "    if current_pos == \"ZZZ\":\n",
    "            break\n",
    "count"
   ]
  }
 ],
 "metadata": {
  "kernelspec": {
   "display_name": "Python 3",
   "language": "python",
   "name": "python3"
  },
  "language_info": {
   "codemirror_mode": {
    "name": "ipython",
    "version": 3
   },
   "file_extension": ".py",
   "mimetype": "text/x-python",
   "name": "python",
   "nbconvert_exporter": "python",
   "pygments_lexer": "ipython3",
   "version": "3.9.13"
  }
 },
 "nbformat": 4,
 "nbformat_minor": 2
}
