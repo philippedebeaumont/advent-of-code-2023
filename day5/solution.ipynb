{
 "cells": [
  {
   "cell_type": "markdown",
   "metadata": {},
   "source": [
    "### Part One"
   ]
  },
  {
   "cell_type": "code",
   "execution_count": 81,
   "metadata": {},
   "outputs": [],
   "source": [
    "file = open(\"input.txt\").read().strip().split(\"\\n\")\n",
    "\n",
    "data = {\"seed-to-soil\": ([], False), \"soil-to-fertilizer\": ([], False), \"fertilizer-to-water\": ([], False),\n",
    "        \"water-to-light\": ([], False), \"light-to-temperature\": ([], False), \"temperature-to-humidity\": ([], False),\n",
    "        \"humidity-to-location\": ([], False)}\n",
    "\n",
    "# Get all data from file\n",
    "for line in file:\n",
    "    if line.startswith(\"seeds\"):\n",
    "        line = line.split(\":\")[1].strip()\n",
    "        seeds = line.split(\" \")\n",
    "    for key in data:\n",
    "        if line.startswith(key):\n",
    "            data[key] = (data[key][0], True)\n",
    "        elif data[key][1] and line != \"\":\n",
    "            data[key][0].append(line.split(\" \"))\n",
    "        elif data[key][1] and line == \"\":\n",
    "            data[key] = (data[key][0], False)\n",
    "\n",
    "# Clean dict from bool\n",
    "for key in data:\n",
    "    data[key] = data[key][0]"
   ]
  },
  {
   "cell_type": "code",
   "execution_count": 82,
   "metadata": {},
   "outputs": [
    {
     "data": {
      "text/plain": [
       "662197086"
      ]
     },
     "execution_count": 82,
     "metadata": {},
     "output_type": "execute_result"
    }
   ],
   "source": [
    "def get_transform(source, map):\n",
    "    dest = []\n",
    "    for j in source:\n",
    "        for i in map:\n",
    "            if int(j) in range(int(i[1]), int(i[1]) + int(i[2])):\n",
    "                dest.append(int(i[0]) + (int(j) - int(i[1])))\n",
    "                break\n",
    "        else:\n",
    "            dest.append(int(j))\n",
    "    return dest\n",
    "\n",
    "soil = get_transform(seeds, data[\"seed-to-soil\"])\n",
    "fertilizer = get_transform(soil, data[\"soil-to-fertilizer\"])\n",
    "water = get_transform(fertilizer, data[\"fertilizer-to-water\"])\n",
    "light = get_transform(water, data[\"water-to-light\"])\n",
    "temperature = get_transform(light, data[\"light-to-temperature\"])\n",
    "humidity = get_transform(temperature, data[\"temperature-to-humidity\"])\n",
    "location = get_transform(humidity, data[\"humidity-to-location\"])\n",
    "\n",
    "min(location)"
   ]
  },
  {
   "cell_type": "markdown",
   "metadata": {},
   "source": [
    "### Part Two"
   ]
  },
  {
   "cell_type": "code",
   "execution_count": 104,
   "metadata": {},
   "outputs": [],
   "source": [
    "file = open(\"input_small.txt\").read().strip().split(\"\\n\")\n",
    "\n",
    "data = {\"seed-to-soil\": ([], False), \"soil-to-fertilizer\": ([], False), \"fertilizer-to-water\": ([], False),\n",
    "        \"water-to-light\": ([], False), \"light-to-temperature\": ([], False), \"temperature-to-humidity\": ([], False),\n",
    "        \"humidity-to-location\": ([], False)}\n",
    "\n",
    "# Get all data from file\n",
    "for line in file:\n",
    "    if line.startswith(\"seeds\"):\n",
    "        line = line.split(\":\")[1].strip()\n",
    "        seeds = line.split(\" \")\n",
    "    for key in data:\n",
    "        if line.startswith(key):\n",
    "            data[key] = (data[key][0], True)\n",
    "        elif data[key][1] and line != \"\":\n",
    "            data[key][0].append(line.split(\" \"))\n",
    "        elif data[key][1] and line == \"\":\n",
    "            data[key] = (data[key][0], False)\n",
    "\n",
    "# Clean dict from bool\n",
    "for key in data:\n",
    "    data[key] = data[key][0]"
   ]
  },
  {
   "cell_type": "code",
   "execution_count": 110,
   "metadata": {},
   "outputs": [],
   "source": [
    "seeds_range = []\n",
    "for i, value in enumerate(seeds):\n",
    "    if i % 2 == 0:\n",
    "        value1 = value\n",
    "    else:\n",
    "        seeds_range.append((int(value1), int(value)))"
   ]
  },
  {
   "cell_type": "code",
   "execution_count": 111,
   "metadata": {},
   "outputs": [
    {
     "name": "stdout",
     "output_type": "stream",
     "text": [
      "[(79, 14), (55, 13)]\n"
     ]
    }
   ],
   "source": [
    "print(seeds_range)"
   ]
  },
  {
   "cell_type": "code",
   "execution_count": null,
   "metadata": {},
   "outputs": [],
   "source": []
  },
  {
   "cell_type": "code",
   "execution_count": 103,
   "metadata": {},
   "outputs": [
    {
     "data": {
      "text/plain": [
       "35"
      ]
     },
     "execution_count": 103,
     "metadata": {},
     "output_type": "execute_result"
    }
   ],
   "source": [
    "def get_transform(source, map):\n",
    "    dest = []\n",
    "    for j in source:\n",
    "        range_start = j[0]\n",
    "        range_end = j[0] + j[1]\n",
    "        has_changes = False\n",
    "        for i in map:\n",
    "            start_in = False\n",
    "            end_in = False\n",
    "            if int(i[1]) < range_start < int(i[1]) + int(i[2]):\n",
    "                new_range_start = int(i[0]) + (range_start - int(i[1]))\n",
    "                start_in = True\n",
    "                has_changes = True\n",
    "            if int(i[1]) < range_end < int(i[1]) + int(i[2]):\n",
    "                new_range_end = int(i[0]) + (range_start - int(i[1]))\n",
    "                end_in = True\n",
    "                has_changes = True\n",
    "            if start_in and not end_in:\n",
    "                new_range_end = new_range_start + int(i[1]) + int(i[2]) - range_start\n",
    "                has_changes = True\n",
    "            if end_in and not start_in:\n",
    "                new_range_start = new_range_end - range_end - int(i[1])\n",
    "                has_changes = True\n",
    "        if not has_changes:\n",
    "            new_range_start = range_start\n",
    "            new_range_end = range_end\n",
    "        dest.append((new_range_start, new_range_end - new_range_start))\n",
    "        else:\n",
    "            dest.append(int(j))\n",
    "    return dest\n",
    "\n",
    "soil = get_transform(seeds, data[\"seed-to-soil\"])\n",
    "fertilizer = get_transform(soil, data[\"soil-to-fertilizer\"])\n",
    "water = get_transform(fertilizer, data[\"fertilizer-to-water\"])\n",
    "light = get_transform(water, data[\"water-to-light\"])\n",
    "temperature = get_transform(light, data[\"light-to-temperature\"])\n",
    "humidity = get_transform(temperature, data[\"temperature-to-humidity\"])\n",
    "location = get_transform(humidity, data[\"humidity-to-location\"])\n",
    "\n",
    "min(location)"
   ]
  }
 ],
 "metadata": {
  "kernelspec": {
   "display_name": "Python 3",
   "language": "python",
   "name": "python3"
  },
  "language_info": {
   "codemirror_mode": {
    "name": "ipython",
    "version": 3
   },
   "file_extension": ".py",
   "mimetype": "text/x-python",
   "name": "python",
   "nbconvert_exporter": "python",
   "pygments_lexer": "ipython3",
   "version": "3.9.13"
  }
 },
 "nbformat": 4,
 "nbformat_minor": 2
}
