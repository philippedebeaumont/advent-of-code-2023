{
 "cells": [
  {
   "cell_type": "markdown",
   "metadata": {},
   "source": [
    "### Part One"
   ]
  },
  {
   "cell_type": "code",
   "execution_count": 74,
   "metadata": {},
   "outputs": [],
   "source": [
    "file = open(\"input.txt\").read().strip().split(\"\\n\")\n",
    "\n",
    "data = {\"seed-to-soil\": ([], False), \"soil-to-fertilizer\": ([], False), \"fertilizer-to-water\": ([], False),\n",
    "        \"water-to-light\": ([], False), \"light-to-temperature\": ([], False), \"temperature-to-humidity\": ([], False),\n",
    "        \"humidity-to-location\": ([], False)}\n",
    "\n",
    "# Get all data from file\n",
    "for line in file:\n",
    "    if line.startswith(\"seeds\"):\n",
    "        line = line.split(\":\")[1].strip()\n",
    "        seeds = line.split(\" \")\n",
    "    for key in data:\n",
    "        if line.startswith(key):\n",
    "            data[key] = (data[key][0], True)\n",
    "        elif data[key][1] and line != \"\":\n",
    "            data[key][0].append(line.split(\" \"))\n",
    "        elif data[key][1] and line == \"\":\n",
    "            data[key] = (data[key][0], False)\n",
    "\n",
    "# Clean dict from bool\n",
    "for key in data:\n",
    "    data[key] = data[key][0]"
   ]
  },
  {
   "cell_type": "code",
   "execution_count": 75,
   "metadata": {},
   "outputs": [
    {
     "data": {
      "text/plain": [
       "662197086"
      ]
     },
     "execution_count": 75,
     "metadata": {},
     "output_type": "execute_result"
    }
   ],
   "source": [
    "def get_transform(source, map):\n",
    "    dest = []\n",
    "    for j in source:\n",
    "        for i in map:\n",
    "            if int(j) in range(int(i[1]), int(i[1]) + int(i[2])):\n",
    "                dest.append(int(i[0]) + (int(j) - int(i[1])))\n",
    "                break\n",
    "        else:\n",
    "            dest.append(int(j))\n",
    "    return dest\n",
    "\n",
    "soil = get_transform(seeds, data[\"seed-to-soil\"])\n",
    "fertilizer = get_transform(soil, data[\"soil-to-fertilizer\"])\n",
    "water = get_transform(fertilizer, data[\"fertilizer-to-water\"])\n",
    "light = get_transform(water, data[\"water-to-light\"])\n",
    "temperature = get_transform(light, data[\"light-to-temperature\"])\n",
    "humidity = get_transform(temperature, data[\"temperature-to-humidity\"])\n",
    "location = get_transform(humidity, data[\"humidity-to-location\"])\n",
    "\n",
    "min(location)"
   ]
  },
  {
   "cell_type": "markdown",
   "metadata": {},
   "source": [
    "### Part Two"
   ]
  },
  {
   "cell_type": "code",
   "execution_count": 76,
   "metadata": {},
   "outputs": [],
   "source": [
    "file = open(\"input.txt\").read().strip().split(\"\\n\")\n",
    "\n",
    "data = {\"seed-to-soil\": ([], False), \"soil-to-fertilizer\": ([], False), \"fertilizer-to-water\": ([], False),\n",
    "        \"water-to-light\": ([], False), \"light-to-temperature\": ([], False), \"temperature-to-humidity\": ([], False),\n",
    "        \"humidity-to-location\": ([], False)}\n",
    "\n",
    "# Get all data from file\n",
    "for line in file:\n",
    "    if line.startswith(\"seeds\"):\n",
    "        line = line.split(\":\")[1].strip()\n",
    "        seeds = line.split(\" \")\n",
    "    for key in data:\n",
    "        if line.startswith(key):\n",
    "            data[key] = (data[key][0], True)\n",
    "        elif data[key][1] and line != \"\":\n",
    "            data[key][0].append(line.split(\" \"))\n",
    "        elif data[key][1] and line == \"\":\n",
    "            data[key] = (data[key][0], False)\n",
    "\n",
    "# Clean dict from bool\n",
    "for key in data:\n",
    "    data[key] = data[key][0]"
   ]
  },
  {
   "cell_type": "code",
   "execution_count": 77,
   "metadata": {},
   "outputs": [],
   "source": [
    "seeds_range = []\n",
    "for i, value in enumerate(seeds):\n",
    "    if i % 2 == 0:\n",
    "        value1 = value\n",
    "    else:\n",
    "        seeds_range.append((int(value1), int(value)))"
   ]
  },
  {
   "cell_type": "code",
   "execution_count": 78,
   "metadata": {},
   "outputs": [],
   "source": [
    "def append_non_transformed(transformed_list, dest, source_start, source_end):\n",
    "    if len(transformed_list) == 0:\n",
    "        dest.append((source_start, source_end - source_start + 1))\n",
    "        return dest\n",
    "\n",
    "    range_transformed = [(transformed_list[i], transformed_list[i + 1]) for i in range(0, len(transformed_list), 2)]\n",
    "\n",
    "    non_transformed = []\n",
    "    tmp_range_start = None\n",
    "    end_prev = -1\n",
    "\n",
    "    for i, value in enumerate(range_transformed):\n",
    "        if i == 0 and not value[0] == source_start:\n",
    "            non_transformed.append((source_start, value[0] - source_start))\n",
    "        if value[0] - end_prev != 1 and i != 0:\n",
    "            tmp_range_start = end_prev + 1\n",
    "            non_transformed.append((tmp_range_start, value[0] - tmp_range_start + 1))\n",
    "            tmp_range_start = None\n",
    "        end_prev = value[1]\n",
    "    \n",
    "    if range_transformed[-1][1] != source_end:\n",
    "        non_transformed.append((range_transformed[-1][1] + 1, source_end - range_transformed[-1][1]))\n",
    "    \n",
    "    for i in non_transformed:\n",
    "        dest.append(i)\n",
    "\n",
    "    return dest"
   ]
  },
  {
   "cell_type": "code",
   "execution_count": 79,
   "metadata": {},
   "outputs": [
    {
     "data": {
      "text/plain": [
       "52510809"
      ]
     },
     "execution_count": 79,
     "metadata": {},
     "output_type": "execute_result"
    }
   ],
   "source": [
    "def get_transform(source, map):\n",
    "    dest = []\n",
    "    for j in source:\n",
    "        tmp_dest = []\n",
    "        source_start = j[0]\n",
    "        source_end = j[0] + j[1] - 1\n",
    "        transformed_list = []\n",
    "        for i in map:\n",
    "            source_range_start = int(i[1])\n",
    "            source_range_end = int(i[1]) + int(i[2]) - 1\n",
    "            dest_range_start = int(i[0])\n",
    "            dest_range_end = int(i[0])+ int(i[2]) - 1\n",
    "            start_in = False\n",
    "            end_in = False\n",
    "            if source_range_start <= source_start <= source_range_end:\n",
    "                new_start = source_start - (source_range_start - dest_range_start)\n",
    "                start_in = True\n",
    "                transformed_list.append(source_start)\n",
    "            if source_range_start <= source_end <= source_range_end:\n",
    "                new_end = source_end - (source_range_start - dest_range_start)\n",
    "                end_in = True\n",
    "                transformed_list.append(source_end)\n",
    "            if start_in and not end_in:\n",
    "                new_end = dest_range_end\n",
    "                tmp_dest.append((new_start, new_end - new_start + 1))\n",
    "                transformed_list.append(source_range_end)\n",
    "            if end_in and not start_in:\n",
    "                new_start = dest_range_start\n",
    "                tmp_dest.append((new_start, new_end - new_start + 1))\n",
    "                transformed_list.append(source_range_start)\n",
    "            if start_in and end_in:\n",
    "                tmp_dest.append((new_start, new_end - new_start + 1))\n",
    "            if source_start < source_range_start and source_range_end < source_end:\n",
    "                new_start = dest_range_start\n",
    "                new_end = dest_range_end\n",
    "                transformed_list.append(source_range_start)\n",
    "                transformed_list.append(source_range_end)\n",
    "                tmp_dest.append((new_start, new_end - new_start + 1))\n",
    "        \n",
    "        transformed_list = sorted(transformed_list)\n",
    "        tmp_dest = append_non_transformed(transformed_list, tmp_dest, source_start, source_end)\n",
    "        dest = dest + tmp_dest\n",
    "    return dest\n",
    "\n",
    "soil = get_transform(seeds_range, data[\"seed-to-soil\"])\n",
    "fertilizer = get_transform(soil, data[\"soil-to-fertilizer\"])\n",
    "water = get_transform(fertilizer, data[\"fertilizer-to-water\"])\n",
    "light = get_transform(water, data[\"water-to-light\"])\n",
    "temperature = get_transform(light, data[\"light-to-temperature\"])\n",
    "humidity = get_transform(temperature, data[\"temperature-to-humidity\"])\n",
    "location = get_transform(humidity, data[\"humidity-to-location\"])\n",
    "\n",
    "locations = []\n",
    "for i in location:\n",
    "    locations.append(i[0])\n",
    "min(locations)"
   ]
  }
 ],
 "metadata": {
  "kernelspec": {
   "display_name": "Python 3",
   "language": "python",
   "name": "python3"
  },
  "language_info": {
   "codemirror_mode": {
    "name": "ipython",
    "version": 3
   },
   "file_extension": ".py",
   "mimetype": "text/x-python",
   "name": "python",
   "nbconvert_exporter": "python",
   "pygments_lexer": "ipython3",
   "version": "3.9.13"
  }
 },
 "nbformat": 4,
 "nbformat_minor": 2
}
