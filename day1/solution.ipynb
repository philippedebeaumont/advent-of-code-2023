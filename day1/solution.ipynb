{
 "cells": [
  {
   "cell_type": "markdown",
   "metadata": {},
   "source": [
    "### Part One"
   ]
  },
  {
   "cell_type": "code",
   "execution_count": 37,
   "metadata": {},
   "outputs": [
    {
     "data": {
      "text/plain": [
       "53386"
      ]
     },
     "execution_count": 37,
     "metadata": {},
     "output_type": "execute_result"
    }
   ],
   "source": [
    "sum = 0\n",
    "file = open(\"input.txt\").read().strip()\n",
    "for line in file.split(\"\\n\"):\n",
    "    digit_list = []\n",
    "    for i, char in enumerate(line):\n",
    "        if char.isdigit():\n",
    "            digit_list.append(char)\n",
    "    sum += int(digit_list[0] + digit_list[-1])\n",
    "sum"
   ]
  },
  {
   "cell_type": "markdown",
   "metadata": {},
   "source": [
    "### Part Two"
   ]
  },
  {
   "cell_type": "code",
   "execution_count": 51,
   "metadata": {},
   "outputs": [
    {
     "data": {
      "text/plain": [
       "53312"
      ]
     },
     "execution_count": 51,
     "metadata": {},
     "output_type": "execute_result"
    }
   ],
   "source": [
    "sum = 0\n",
    "file = open(\"input.txt\").read().strip()\n",
    "for line in file.split(\"\\n\"):\n",
    "    digit_list = []\n",
    "    for i, char in enumerate(line):\n",
    "        if char.isdigit():\n",
    "            digit_list.append(char)\n",
    "        for j, val in enumerate([\"one\", \"two\", \"three\", \"four\", \"five\", \"six\", \"seven\", \"eight\", \"nine\"]):\n",
    "            if line[i:].startswith(val):\n",
    "                digit_list.append(str(j+1))\n",
    "    sum += int(digit_list[0] + digit_list[-1])\n",
    "sum"
   ]
  }
 ],
 "metadata": {
  "kernelspec": {
   "display_name": "Python 3",
   "language": "python",
   "name": "python3"
  },
  "language_info": {
   "codemirror_mode": {
    "name": "ipython",
    "version": 3
   },
   "file_extension": ".py",
   "mimetype": "text/x-python",
   "name": "python",
   "nbconvert_exporter": "python",
   "pygments_lexer": "ipython3",
   "version": "3.9.13"
  }
 },
 "nbformat": 4,
 "nbformat_minor": 2
}
